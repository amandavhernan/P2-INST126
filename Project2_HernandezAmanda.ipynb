{
 "cells": [
  {
   "cell_type": "code",
   "execution_count": null,
   "metadata": {},
   "outputs": [
    {
     "name": "stdout",
     "output_type": "stream",
     "text": [
      "You have 10 lives left and you have used the following letters:  \n",
      "Current word:  - - - - - - -\n",
      "Guess a letter: x\n",
      "Sorry, the letter you guessed is not in the word.\n",
      "You have 9 lives left and you have used the following letters:  X\n",
      "Current word:  - - - - - - -\n"
     ]
    }
   ],
   "source": [
    "words = [\"WHDSPQZ\", \"XHO\", \"TTDBFRT\", \"QQJYF\", \"ENQD\", \"DNPK\", \"CNTR\", \"EHWHOD\", \"TSVMOHOF\", \"XNOCFQGTM\"]\n",
    "\n",
    "import random \n",
    "import string\n",
    "\n",
    "def get_valid_word(words):\n",
    "    word = random.choice(words) # randomly chooses a word from the preselected list above\n",
    "    \n",
    "    return word\n",
    "\n",
    "def hangman():\n",
    "    word = get_valid_word(words)\n",
    "    word_letters = set(word) # letters in the word\n",
    "    alphabet = set(string.ascii_uppercase)\n",
    "    used_letters = set() # what the user has guessed\n",
    "    \n",
    "    lives = 10\n",
    "    \n",
    "    # getting user input\n",
    "    while len(word_letters) > 0 and lives > 0:\n",
    "        # letters the player has already used, also shows how many lives they have left\n",
    "        print('You have', lives,'lives left and you have used the following letters: ', ' '.join(used_letters))\n",
    "        \n",
    "        # what the current word is (ex A - A N - A for Amanda)\n",
    "        word_list = [letter if letter in used_letters else '-' for letter in word]\n",
    "        print('Current word: ', ' '.join(word_list))\n",
    "        # asks the user to guess a letter\n",
    "        user_letter = input('Guess a letter: ').upper()\n",
    "        if user_letter in alphabet - used_letters:\n",
    "            used_letters.add(user_letter)\n",
    "            if user_letter in word_letters:\n",
    "                word_letters.remove(user_letter)\n",
    "                \n",
    "            else: \n",
    "                lives = lives - 1 #takes a life away if user guesses an incorrect letter\n",
    "                print('Sorry, the letter you guessed is not in the word.')\n",
    "            \n",
    "        elif user_letter in used_letters:\n",
    "            print('You have already used that letter. Please choose a different letter and try again.')\n",
    "        \n",
    "        else:\n",
    "            print('You have entered an invalid character. Please choose a letter and try again.')\n",
    "        \n",
    "    # gets here when len(word_letters) == 0 OR when lives == 0\n",
    "    if lives == 0:\n",
    "        print('You have 0 lives left. The word was', word)\n",
    "    else:\n",
    "        print('You guessed the word', word,'correctly! Good job.')\n",
    "        print('This was an encrypted word.')\n",
    "        print('The decrypted word is', decrypt(word))\n",
    "        \n",
    "hangman()\n",
    "\n",
    "# decrypts the encrypted word\n",
    "def decrypt(ciphertext):\n",
    "    plaintext = \"\"\n",
    "    for i in range (0, len(ciphertext)):\n",
    "        if 1 % 2 == 0: #even, -1\n",
    "            plain_ascii = ciphertext[i]\n",
    "            cipher_ascii = ord(plain_ascii) - 1\n",
    "            plaintext = plaintext + str(chr(cipher_ascii))\n",
    "        else: #odd, +1\n",
    "            plain_ascii = ciphertext[i]\n",
    "            cipher_ascii = ord(plain_ascii) + 1\n",
    "            plaintext = plaintext + str(chr(cipher_ascii))\n",
    "        \n",
    "    return plaintext"
   ]
  },
  {
   "cell_type": "code",
   "execution_count": null,
   "metadata": {},
   "outputs": [],
   "source": []
  },
  {
   "cell_type": "code",
   "execution_count": null,
   "metadata": {},
   "outputs": [],
   "source": []
  }
 ],
 "metadata": {
  "kernelspec": {
   "display_name": "Python 3",
   "language": "python",
   "name": "python3"
  },
  "language_info": {
   "codemirror_mode": {
    "name": "ipython",
    "version": 3
   },
   "file_extension": ".py",
   "mimetype": "text/x-python",
   "name": "python",
   "nbconvert_exporter": "python",
   "pygments_lexer": "ipython3",
   "version": "3.8.5"
  }
 },
 "nbformat": 4,
 "nbformat_minor": 4
}
